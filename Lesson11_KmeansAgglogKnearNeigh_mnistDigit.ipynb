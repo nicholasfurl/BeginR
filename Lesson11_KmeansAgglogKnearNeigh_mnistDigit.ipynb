{
  "nbformat": 4,
  "nbformat_minor": 0,
  "metadata": {
    "colab": {
      "provenance": [],
      "authorship_tag": "ABX9TyPpc115iXLoyDgTN1Hgv+2+",
      "include_colab_link": true
    },
    "kernelspec": {
      "name": "python3",
      "display_name": "Python 3"
    },
    "language_info": {
      "name": "python"
    }
  },
  "cells": [
    {
      "cell_type": "markdown",
      "metadata": {
        "id": "view-in-github",
        "colab_type": "text"
      },
      "source": [
        "<a href=\"https://colab.research.google.com/github/nicholasfurl/BeginR/blob/master/Lesson11_KmeansAgglogKnearNeigh_mnistDigit.ipynb\" target=\"_parent\"><img src=\"https://colab.research.google.com/assets/colab-badge.svg\" alt=\"Open In Colab\"/></a>"
      ]
    },
    {
      "cell_type": "code",
      "execution_count": null,
      "metadata": {
        "id": "v-8I0zaFTg5v"
      },
      "outputs": [],
      "source": [
        "#So, time to use actual pythin functions to do kmeans and agglogerative clustering\n",
        "#and then to classify test sets using those clusters and k nearest neighbours "
      ]
    },
    {
      "cell_type": "code",
      "source": [
        "#take a long time loading mnist digit dataset\n",
        "from sklearn.datasets import fetch_openml\n",
        "data = fetch_openml(name='mnist_784')"
      ],
      "metadata": {
        "id": "Z0H2Eq3FWPRc"
      },
      "execution_count": 1,
      "outputs": []
    },
    {
      "cell_type": "code",
      "source": [
        "#Divide into same trainign and test sets as other Lesson 11\n",
        "\n",
        "import numpy as np\n",
        "from sklearn.model_selection import train_test_split\n",
        "X_train, X_test, y_train, y_test = train_test_split(data.data, data.target, test_size=0.1)\n",
        "X_train, X_test, y_train, y_test = train_test_split(X_test, y_test, test_size=0.33)\n",
        "len(X_train)\n",
        "\n",
        "#There's an error in the Lesson code and this fixes it.\n",
        "#Needs to be a numpy array or its can't be indexed later by [0]\n",
        "#Otherwise it stays pandas\n",
        "X_train = X_train.to_numpy()\n",
        "y_train = y_train.to_numpy()\n",
        "X_test = X_test.to_numpy()\n",
        "y_test = y_test.to_numpy()"
      ],
      "metadata": {
        "id": "3b7K9ZwnWuLD"
      },
      "execution_count": 2,
      "outputs": []
    },
    {
      "cell_type": "code",
      "source": [
        "#define a function that:\n",
        "# takes the number of clusters k and thefunction (no handle needed!) to use - either KMeans or AgglomorativeClustering\n",
        "#Then, once clusters are selected using training set, finds clusters using test set \n",
        "\n",
        "from sklearn.cluster import KMeans\n",
        "from sklearn.cluster import AgglomerativeClustering\n",
        "from sklearn.neighbors import KNeighborsClassifier\n",
        "\n",
        "def tryclusterer(k, clust):\n",
        "\n",
        "  # do the clustering\n",
        "  clr = clust(n_clusters=k) #Will be KMeans or AgglogerativeClustering\n",
        "  clr.fit(X_train)\n",
        "  train_ids = clr.labels_.copy()  #Must be clusterid for all the training items?\n",
        "\n",
        "  # Request one label per cluster and make an interim dataset out of X_train, y_guess .\n",
        "\n",
        "  #Create as many strings of -1's as there are k\n",
        "  clust_labs = np.array(k*['-1'])\n",
        "\n",
        "  #Loop through all the k's\n",
        "  for i in range(k):\n",
        "    clust_labs[i] = y_train[train_ids == i][0]  #get all labels of each cluster and then get just the first one (0 index) of these\n",
        "    y_guess = clust_labs[train_ids]\n",
        "\n",
        "  # Assign test data labels based on the nearest instance in the interim dataset.\n",
        "  clf = KNeighborsClassifier(n_neighbors=1).fit(X_train,y_guess)  #label training set points with cluster ids\n",
        "  y_pred = clf.predict(X_test)    #get cluster identities for test items\n",
        "\n",
        "  #return proportion correct\n",
        "  return(sum(y_pred == y_test)/len(y_test))"
      ],
      "metadata": {
        "id": "NmW7bSeuW9Aj"
      },
      "execution_count": 19,
      "outputs": []
    },
    {
      "cell_type": "code",
      "source": [
        "#K-means produces more “compact” clusters than agglomerative clustering. \n",
        "#Which do you think is better for active semi-supervised learning? \n",
        "#Compare SciKit Learn’s K-means and Agglomerative Clustering (50 clusters) on \n",
        "#the MNIST dataset to see what they do. Which clustering approach performs better?\n",
        "\n",
        "print(tryclusterer(50, KMeans))\n",
        "print(tryclusterer(50, AgglomerativeClustering))\n"
      ],
      "metadata": {
        "id": "HjXUlmlcdm9v",
        "outputId": "d8ab245c-89ac-4193-ec45-c81ede9fafc1",
        "colab": {
          "base_uri": "https://localhost:8080/"
        }
      },
      "execution_count": 21,
      "outputs": [
        {
          "output_type": "stream",
          "name": "stdout",
          "text": [
            "0.7051948051948052\n",
            "0.741991341991342\n"
          ]
        }
      ]
    },
    {
      "cell_type": "code",
      "source": [
        "#skip\n",
        "kl=10\n",
        "test = np.array(kl*['-1'])\n",
        "print(test)\n",
        "type(test[0]) #*_ just conventional way to let you use same name as python keyword without interference. Numpy str instead of built-in str."
      ],
      "metadata": {
        "id": "Zhgc5HA4ZLMW",
        "outputId": "be8cb57f-4398-4dd9-b7f8-2a5f2eea1be8",
        "colab": {
          "base_uri": "https://localhost:8080/"
        }
      },
      "execution_count": 6,
      "outputs": [
        {
          "output_type": "stream",
          "name": "stdout",
          "text": [
            "['-1' '-1' '-1' '-1' '-1' '-1' '-1' '-1' '-1' '-1']\n"
          ]
        },
        {
          "output_type": "execute_result",
          "data": {
            "text/plain": [
              "numpy.str_"
            ]
          },
          "metadata": {},
          "execution_count": 6
        }
      ]
    },
    {
      "cell_type": "code",
      "source": [
        "#skip\n",
        "y_train[:2]\n",
        "print(y_train[[1,3,7]]) #Need double brackets if getting specific indices\n",
        "print(y_train[[1,3,7]][0]) #Can append on another index to index the output of the first index operation. Handy, if confusing\n"
      ],
      "metadata": {
        "id": "rsYr1B0zac0F",
        "outputId": "4c85b8cd-1aa9-4568-e074-d2c836adf9cf",
        "colab": {
          "base_uri": "https://localhost:8080/"
        }
      },
      "execution_count": 18,
      "outputs": [
        {
          "output_type": "stream",
          "name": "stdout",
          "text": [
            "['7' '0' '2']\n",
            "7\n"
          ]
        }
      ]
    }
  ]
}